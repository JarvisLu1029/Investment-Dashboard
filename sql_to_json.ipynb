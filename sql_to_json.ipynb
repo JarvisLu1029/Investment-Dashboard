{
 "cells": [
  {
   "cell_type": "code",
   "execution_count": 1,
   "metadata": {},
   "outputs": [
    {
     "name": "stdout",
     "output_type": "stream",
     "text": [
      "[{'Tables_in_main': 'auth_group'}, {'Tables_in_main': 'auth_group_permissions'}, {'Tables_in_main': 'auth_permission'}, {'Tables_in_main': 'auth_user'}, {'Tables_in_main': 'auth_user_groups'}, {'Tables_in_main': 'auth_user_user_permissions'}, {'Tables_in_main': 'django_admin_log'}, {'Tables_in_main': 'django_content_type'}, {'Tables_in_main': 'django_migrations'}, {'Tables_in_main': 'django_session'}, {'Tables_in_main': 'main_assetprice'}, {'Tables_in_main': 'main_profitdata'}, {'Tables_in_main': 'main_stockprice'}, {'Tables_in_main': 'main_tabledata'}, {'Tables_in_main': 'main_trackingasset'}, {'Tables_in_main': 'main_trackingstock'}, {'Tables_in_main': 'main_user'}]\n"
     ]
    }
   ],
   "source": [
    "import pymysql\n",
    "\n",
    "connection = pymysql.connect(\n",
    "    host='',\n",
    "    port=,\n",
    "    user='',\n",
    "    passwd='',\n",
    "    cursorclass=pymysql.cursors.DictCursor,\n",
    "    database=''\n",
    ")\n",
    "\n",
    "with connection.cursor() as cursor:\n",
    "    sql = 'SHOW TABLES;'\n",
    "    cursor.execute(sql)\n",
    "\n",
    "    result = cursor.fetchall()\n",
    "print(result)"
   ]
  },
  {
   "cell_type": "code",
   "execution_count": 7,
   "metadata": {},
   "outputs": [],
   "source": [
    "import json\n",
    "from datetime import datetime\n",
    "\n",
    "def turn_sql_to_json(table_name: str, model_name: str, json_data_name: str):\n",
    "    with connection.cursor() as cursor:\n",
    "        sql = f'SELECT * FROM {table_name};'\n",
    "        cursor.execute(sql)\n",
    "\n",
    "    result = cursor.fetchall()\n",
    "\n",
    "    # Convert datetime objects to strings\n",
    "    result_serializable = []\n",
    "    for row in result:\n",
    "        row_serializable = {\n",
    "            \"model\": \"main.\" + model_name,\n",
    "            \"field\": {}}\n",
    "        for key, value in row.items():\n",
    "            if isinstance(value, datetime):\n",
    "                value = value.strftime('%Y-%m-%d %H:%M:%S')\n",
    "            row_serializable[\"field\"].update({key: value})\n",
    "        result_serializable.append(row_serializable)\n",
    "\n",
    "    # Write the JSON data to a file\n",
    "    with open(f'{json_data_name}.json', 'w') as file:\n",
    "        json.dump(result_serializable, file, indent=4, ensure_ascii=False)"
   ]
  },
  {
   "cell_type": "code",
   "execution_count": 9,
   "metadata": {},
   "outputs": [],
   "source": [
    "turn_sql_to_json('main_trackingstock', 'trackingstock', 'tracking_stock')\n",
    "turn_sql_to_json('main_stockprice', 'trackingstockprice', 'tracking_stock_price')\n",
    "turn_sql_to_json('main_assetprice', 'trackingassetprice', 'tracking_asset_price')\n",
    "turn_sql_to_json('main_tabledata', 'tabledata', 'table_data')"
   ]
  }
 ],
 "metadata": {
  "kernelspec": {
   "display_name": "Python 3",
   "language": "python",
   "name": "python3"
  },
  "language_info": {
   "codemirror_mode": {
    "name": "ipython",
    "version": 3
   },
   "file_extension": ".py",
   "mimetype": "text/x-python",
   "name": "python",
   "nbconvert_exporter": "python",
   "pygments_lexer": "ipython3",
   "version": "3.10.12"
  }
 },
 "nbformat": 4,
 "nbformat_minor": 2
}
